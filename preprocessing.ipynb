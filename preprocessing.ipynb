{
 "cells": [
  {
   "attachments": {},
   "cell_type": "markdown",
   "metadata": {},
   "source": [
    "# Preprocessing Example\n",
    "\n",
    "This notebook shows how to preprocess the data for the inference task. To provide a plug-and-play demonstration, we have choosen to demonstrate on IXI data. The preprocessing should be similar for ADNI"
   ]
  },
  {
   "cell_type": "code",
   "execution_count": 1,
   "metadata": {},
   "outputs": [],
   "source": [
    "import torch\n",
    "import nibabel as nib\n",
    "import wget\n",
    "import tarfile\n",
    "import os\n",
    "from git import Repo\n",
    "import sys\n",
    "import re\n",
    "import pandas as pd\n",
    "import json\n",
    "\n",
    "import numpy as np\n",
    "\n",
    "from SFCN import SFCN"
   ]
  },
  {
   "cell_type": "markdown",
   "metadata": {},
   "source": [
    "## Download IXI"
   ]
  },
  {
   "cell_type": "code",
   "execution_count": 2,
   "metadata": {},
   "outputs": [],
   "source": [
    "t1_link = \"http://biomedic.doc.ic.ac.uk/brain-development/downloads/IXI/IXI-T1.tar\"\n",
    "csf_link = \"http://biomedic.doc.ic.ac.uk/brain-development/downloads/IXI/IXI.xls\"\n",
    "tar_file = \"IXI-T1.tar\"\n",
    "data_folder = \"IXI-T1\"\n",
    "\n",
    "# Download the data\n",
    "if not os.path.exists(tar_file): \n",
    "    wget.download(t1_link, out=tar_file)\n",
    "\n",
    "    # Extract the data\n",
    "    tar = tarfile.open(tar_file)\n",
    "    tar.extractall(path=data_folder)\n",
    "    tar.close()\n",
    "\n",
    "if not os.path.exists(\"IXI.xls\"):\n",
    "    wget.download(csf_link, out=\"IXI.xls\")"
   ]
  },
  {
   "cell_type": "markdown",
   "metadata": {},
   "source": [
    "## Download and install HD-BET"
   ]
  },
  {
   "cell_type": "code",
   "execution_count": 3,
   "metadata": {},
   "outputs": [],
   "source": [
    "if not os.path.exists(\"HD_BET\"):\n",
    "    Repo.clone_from(\"git@github.com:MIC-DKFZ/HD-BET.git\", \"HD_BET\")\n",
    "\n",
    "    # Install HD-BET\n",
    "    os.chdir(\"HD_BET\")\n",
    "    os.system(\"pip install -e .\")\n",
    "    os.chdir(\"..\")\n",
    "\n",
    "# Add HD_BET to the path\n",
    "sys.path.append(\"HD_BET\")"
   ]
  },
  {
   "cell_type": "code",
   "execution_count": 4,
   "metadata": {},
   "outputs": [],
   "source": [
    "import HD_BET.run"
   ]
  },
  {
   "attachments": {},
   "cell_type": "markdown",
   "metadata": {},
   "source": [
    "## Skullstrip\n",
    "Skullstrip each image using HD-BET and save the results in bids format."
   ]
  },
  {
   "cell_type": "code",
   "execution_count": 5,
   "metadata": {},
   "outputs": [
    {
     "name": "stdout",
     "output_type": "stream",
     "text": [
      "File: IXI-T1/IXI477-IOP-1141-T1.nii.gz\n",
      "preprocessing...\n",
      "image shape after preprocessing:  (117, 160, 160)\n",
      "prediction (CNN id)...\n",
      "0\n",
      "exporting segmentation...\n",
      "File: IXI-T1/IXI622-Guys-1102-T1.nii.gz\n",
      "preprocessing...\n",
      "image shape after preprocessing:  (120, 160, 160)\n",
      "prediction (CNN id)...\n",
      "0\n",
      "exporting segmentation...\n",
      "File: IXI-T1/IXI546-HH-2450-T1.nii.gz\n",
      "preprocessing...\n",
      "image shape after preprocessing:  (120, 160, 160)\n",
      "prediction (CNN id)...\n",
      "0\n",
      "exporting segmentation...\n",
      "File: IXI-T1/IXI459-Guys-0992-T1.nii.gz\n",
      "preprocessing...\n",
      "image shape after preprocessing:  (120, 160, 160)\n",
      "prediction (CNN id)...\n",
      "0\n",
      "exporting segmentation...\n",
      "File: IXI-T1/IXI214-HH-1636-T1.nii.gz\n",
      "preprocessing...\n",
      "image shape after preprocessing:  (120, 160, 160)\n",
      "prediction (CNN id)...\n",
      "0\n",
      "exporting segmentation...\n"
     ]
    }
   ],
   "source": [
    "data_folder_skullstripped = \"IXI-T1-skullstripped/bids\"\n",
    "if not os.path.exists(data_folder_skullstripped):\n",
    "    os.makedirs(data_folder_skullstripped, exist_ok=True)\n",
    "\n",
    "files_missing_skullstripping = []\n",
    "files_missing_skullstripping_out = []\n",
    "\n",
    "# Set the limit of files to be skullstripped\n",
    "n_limit = 5\n",
    "\n",
    "# Collect the files that need to be skullstripped\n",
    "for scan_file in os.listdir(data_folder):\n",
    "    if len(files_missing_skullstripping) >= n_limit:\n",
    "        break\n",
    "    if scan_file.endswith(\".nii.gz\"):\n",
    "        # Extract the subject id\n",
    "        subject_id = re.findall(r\"IXI[0-9]+\", scan_file)[0]\n",
    "\n",
    "        subject_folder = os.path.join(data_folder_skullstripped, \"sub-\" + subject_id)\n",
    "\n",
    "        if not os.path.exists(subject_folder):\n",
    "            os.makedirs(subject_folder)\n",
    "\n",
    "        session_folder = os.path.join(subject_folder, \"ses-01\")\n",
    "\n",
    "        if not os.path.exists(session_folder):\n",
    "            os.makedirs(session_folder)\n",
    "            os.makedirs(os.path.join(session_folder, \"anat\"))\n",
    "            files_missing_skullstripping.append(os.path.join(data_folder, scan_file))\n",
    "\n",
    "            skullstripped_file = session_folder + \"/anat/sub-\" + subject_id + \"_ses-01_T1w_brain.nii.gz\"\n",
    "            files_missing_skullstripping_out.append(skullstripped_file)\n",
    "\n",
    "device = torch.device(\"cuda:0\" if torch.cuda.is_available() else \"cpu\")\n",
    "\n",
    "# Skullstrip the files\n",
    "\n",
    "HD_BET.run.run_hd_bet(files_missing_skullstripping, files_missing_skullstripping_out, mode=\"fast\",\n",
    "                        device=device, postprocess=False, do_tta=True, keep_mask=False, overwrite=True)\n",
    "\n",
    "\n"
   ]
  },
  {
   "attachments": {},
   "cell_type": "markdown",
   "metadata": {},
   "source": [
    "## Preprocess\n",
    "* Crop the top 5 percentiles of the image intensity\n",
    "* Scale the image to the interval [0, 1]\n",
    "* Convert the images to int8 to improve memory usage and loading speed"
   ]
  },
  {
   "cell_type": "code",
   "execution_count": 6,
   "metadata": {},
   "outputs": [],
   "source": [
    "for subject in os.listdir(data_folder_skullstripped):\n",
    "    for session in os.listdir(os.path.join(data_folder_skullstripped, subject)):\n",
    "        # Check that there exists a preprocessed T1w file\n",
    "        preprocess_file = os.path.join(data_folder_skullstripped, subject, session, \"anat\", subject + '_' +  session + \"_T1w_preprocessed_brain.nii.gz\")\n",
    "        if not os.path.exists(preprocess_file):\n",
    "            # Load the T1w file\n",
    "            t1w_file = os.path.join(data_folder_skullstripped, subject, session, \"anat\", subject + '_' + session + \"_T1w_brain.nii.gz\")\n",
    "\n",
    "            t1w_nib = nib.load(t1w_file)\n",
    "\n",
    "            t1w = t1w_nib.get_fdata()\n",
    "            # Clip the top 5 percent of the intensities within the brain\n",
    "            percentile_95 = np.percentile(t1w[t1w > 0], 95)\n",
    "            \n",
    "            t1w = np.clip(t1w, 0, percentile_95)\n",
    "\n",
    "            # Normalize the intensities to the interval [0, 1]\n",
    "            t1w = t1w / percentile_95\n",
    "\n",
    "            # Convert to int8\n",
    "            t1w = (t1w * 255).astype(np.uint8)\n",
    "\n",
    "            # Save as nifti\n",
    "            nib.save(nib.Nifti1Image(t1w, t1w_nib.affine), preprocess_file)"
   ]
  },
  {
   "attachments": {},
   "cell_type": "markdown",
   "metadata": {},
   "source": [
    "# Create A JSON Dataset\n",
    "Save the subjects in a json file for easy loading later."
   ]
  },
  {
   "cell_type": "code",
   "execution_count": 7,
   "metadata": {},
   "outputs": [
    {
     "name": "stdout",
     "output_type": "stream",
     "text": [
      "IXI_ID int64\n",
      "SEX_ID (1=m, 2=f) int64\n",
      "HEIGHT int64\n",
      "WEIGHT int64\n",
      "ETHNIC_ID int64\n",
      "MARITAL_ID int64\n",
      "OCCUPATION_ID int64\n",
      "QUALIFICATION_ID int64\n",
      "DOB object\n",
      "DATE_AVAILABLE int64\n",
      "STUDY_DATE datetime64[ns]\n",
      "AGE float64\n"
     ]
    }
   ],
   "source": [
    "df = pd.read_excel(\"IXI.xls\")\n",
    "\n",
    "# Get the name and type of the columns\n",
    "for col in df.columns:\n",
    "    print(col, df[col].dtype)\n"
   ]
  },
  {
   "cell_type": "code",
   "execution_count": 8,
   "metadata": {},
   "outputs": [],
   "source": [
    "preprocessed_subjects = {}\n",
    "for subject in os.listdir(data_folder_skullstripped):\n",
    "    for session in os.listdir(os.path.join(data_folder_skullstripped, subject)):\n",
    "        # Check that there exists a preprocessed T1w file\n",
    "        preprocess_file = os.path.join(data_folder_skullstripped, subject, session, \"anat\", subject + '_' +  session + \"_T1w_preprocessed_brain.nii.gz\")\n",
    "        if os.path.exists(preprocess_file):\n",
    "            subject_id = int(re.findall(r\"IXI([0-9]+)\", subject)[0])\n",
    "            preprocessed_subjects[subject_id] = preprocess_file\n",
    "\n",
    "# Create a dataframe with the preprocessed subjects\n",
    "df_preprocessed = df[df[\"IXI_ID\"].isin(preprocessed_subjects.keys())].copy()\n",
    "\n",
    "# Add the image paths to the dataframe\n",
    "df_preprocessed[\"image\"] = df_preprocessed[\"IXI_ID\"].map(preprocessed_subjects)"
   ]
  },
  {
   "cell_type": "code",
   "execution_count": 9,
   "metadata": {},
   "outputs": [],
   "source": [
    "# Save as json\n",
    "df_preprocessed['STUDY_DATE'] = df_preprocessed['STUDY_DATE'].astype(str)\n",
    "df_preprocessed_dict = df_preprocessed.to_dict(orient=\"records\")\n",
    "\n",
    "with open(\"IXI_preprocessed.json\", \"w\") as f:\n",
    "    json.dump(df_preprocessed_dict, f, indent=4)\n"
   ]
  }
 ],
 "metadata": {
  "kernelspec": {
   "display_name": "Python 3.9.12 ('gym_env')",
   "language": "python",
   "name": "python3"
  },
  "language_info": {
   "codemirror_mode": {
    "name": "ipython",
    "version": 3
   },
   "file_extension": ".py",
   "mimetype": "text/x-python",
   "name": "python",
   "nbconvert_exporter": "python",
   "pygments_lexer": "ipython3",
   "version": "3.9.12"
  },
  "orig_nbformat": 4,
  "vscode": {
   "interpreter": {
    "hash": "8244e56ec38da414df516963c62066ee353de0bd4a1ee90c3c3a17ad337bb802"
   }
  }
 },
 "nbformat": 4,
 "nbformat_minor": 2
}
